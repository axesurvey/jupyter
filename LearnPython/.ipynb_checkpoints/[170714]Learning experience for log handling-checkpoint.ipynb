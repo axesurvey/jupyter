{
 "cells": [
  {
   "cell_type": "markdown",
   "metadata": {},
   "source": [
    "# 1. how to handle progress bar"
   ]
  },
  {
   "cell_type": "markdown",
   "metadata": {},
   "source": [
    "Below there are 4 methods:\n",
    "- recommended methods is buff map"
   ]
  },
  {
   "cell_type": "code",
   "execution_count": 2,
   "metadata": {},
   "outputs": [
    {
     "name": "stdout",
     "output_type": "stream",
     "text": [
      "method1 line number is: 8023336\n",
      "method2 line number is: 8023336\n",
      "method3 line number is: 8023336\n",
      "method4 line number is: 8023336\n",
      "mapcount : 2.5640006065368652\n",
      "simplecount : 6.175094842910767\n",
      "bufcount : 3.885568141937256\n",
      "opcount : 6.248758792877197\n"
     ]
    }
   ],
   "source": [
    "from __future__ import with_statement\n",
    "import time\n",
    "import mmap\n",
    "import random\n",
    "from collections import defaultdict\n",
    "\n",
    "def mapcount(filename):\n",
    "    f = open(filename, \"r+\")\n",
    "    buf = mmap.mmap(f.fileno(), 0)\n",
    "    lines = 0\n",
    "    readline = buf.readline\n",
    "    while readline():\n",
    "        lines += 1\n",
    "    print (\"method1 line number is: \" + str(lines))\n",
    "    buf.close()\n",
    "    return lines\n",
    "\n",
    "def simplecount(filename):\n",
    "    lines = 0\n",
    "    for line in open(filename):\n",
    "        lines += 1\n",
    "    print (\"method2 line number is: \" + str(lines))\n",
    "    return lines\n",
    "\n",
    "def bufcount(filename):\n",
    "    f = open(filename)\n",
    "    lines = 0\n",
    "    buf_size = 1024 * 1024\n",
    "    read_f = f.read # loop optimization\n",
    "\n",
    "    buf = read_f(buf_size)\n",
    "    while buf:\n",
    "        lines += buf.count('\\n')\n",
    "        buf = read_f(buf_size)\n",
    "    print (\"method3 line number is: \" + str(lines))\n",
    "    return lines\n",
    "\n",
    "def opcount(fname):\n",
    "    with open(fname) as f:\n",
    "        for i, l in enumerate(f):\n",
    "            pass\n",
    "    print (\"method4 line number is: \" + str(i+1))\n",
    "    return i + 1\n",
    "\n",
    "\n",
    "counts = defaultdict(list)\n",
    "\n",
    "#for i in range(5):\n",
    "for i in range(1):\n",
    "    for func in [mapcount, simplecount, bufcount, opcount]:\n",
    "        start_time = time.time()\n",
    "        assert func(\"C:/STUDY/Dropbox/Python_CATM/capture_lienb2466.dec\") == 8023336\n",
    "        #func(\"C:/Users/eyulcui/Dropbox/Python_CATM/capture_lienb2466.dec\")\n",
    "        counts[func].append(time.time() - start_time)\n",
    "\n",
    "for key, vals in counts.items():\n",
    "    print (key.__name__, \":\", sum(vals) / float(len(vals)))"
   ]
  },
  {
   "cell_type": "markdown",
   "metadata": {},
   "source": [
    "# How to calculate the time\n",
    "- check above example"
   ]
  },
  {
   "cell_type": "markdown",
   "metadata": {},
   "source": [
    "# How to use progress bar"
   ]
  },
  {
   "cell_type": "code",
   "execution_count": 3,
   "metadata": {},
   "outputs": [
    {
     "name": "stdout",
     "output_type": "stream",
     "text": [
      "Total line number for this log file is: 8023336\n"
     ]
    },
    {
     "name": "stderr",
     "output_type": "stream",
     "text": [
      "100%|███████████████████████████████████████████████████████████████████| 8023336/8023336 [00:06<00:00, 1172963.47it/s]\n"
     ]
    },
    {
     "name": "stdout",
     "output_type": "stream",
     "text": [
      "8023336\n"
     ]
    }
   ],
   "source": [
    "from __future__ import with_statement\n",
    "from tqdm import tqdm\n",
    "\n",
    "def opcount_line(fname):\n",
    "    with open(fname) as f:\n",
    "        for i, l in enumerate(f):\n",
    "            pass\n",
    "    #print (\"method4 line number is: \" + str(i+1))\n",
    "    return i + 1\n",
    "\n",
    "\n",
    "start_line_number = 0\n",
    "#keyMsg = \"UPC_DLMACCE_FI_SCHEDULE_RA_MSG2_REQ\"\n",
    "\n",
    "\n",
    "#logname = \"C:/Users/eyulcui/Dropbox/Python_CATM/capture_lienb2466.dec\"\n",
    "logname = \"C:/STUDY/Dropbox/Python_CATM/capture_lienb2466.dec\"\n",
    "file_lines = opcount_line(logname)\n",
    "\n",
    "print (\"Total line number for this log file is: \" + str(file_lines) + \"\\n\", end=\"\")\n",
    "\n",
    "#with open(logname) as log:\n",
    "#    for eachline in log:\n",
    "#        start_line_number += 1\n",
    "#        if start_line_number/file_lines > 0.1:\n",
    "#            print (\"Current reading progress is: \" + str(start_line_number) + \"/\" + str(file_lines))\n",
    "\n",
    "\n",
    "f = open(logname,'r')\n",
    "i = 0\n",
    "for line in tqdm(f, total=opcount_line(logname)):\n",
    "    i += 1\n",
    "print (i)"
   ]
  },
  {
   "cell_type": "markdown",
   "metadata": {},
   "source": [
    "# Improve program running speed"
   ]
  },
  {
   "cell_type": "code",
   "execution_count": 7,
   "metadata": {},
   "outputs": [
    {
     "name": "stdout",
     "output_type": "stream",
     "text": [
      "0.5956618258509536\n",
      "2.1390719406626317\n",
      "0.3144254658451331\n",
      "Total line number for this log file is: 8023336\n",
      "bfn+sf;cellId;nrOfPreambles;bbueref;preambleId;timingOffset;preamblePower;freqOffEstPrach;\n"
     ]
    },
    {
     "name": "stderr",
     "output_type": "stream",
     "text": [
      "100%|████████████████████████████████████████████████████████████████████| 8023336/8023336 [00:10<00:00, 771487.55it/s]\n"
     ]
    },
    {
     "name": "stdout",
     "output_type": "stream",
     "text": [
      "Total match number is 6787\n",
      "Total time used is 10.402849435806274\n"
     ]
    }
   ],
   "source": [
    "from timeit import timeit\n",
    "import re\n",
    "\n",
    "def find(string, text):\n",
    "    if string.find(text) > -1:\n",
    "        pass\n",
    "\n",
    "def re_find(string, text):\n",
    "    if re.match(text, string):\n",
    "        pass\n",
    "\n",
    "def best_find(string, text):\n",
    "    if text in string:\n",
    "       pass\n",
    "\n",
    "print (timeit(\"find(string, text)\", \"from __main__ import find; string='lookforme'; text='look'\"))\n",
    "print (timeit(\"re_find(string, text)\", \"from __main__ import re_find; string='lookforme'; text='look'\"))\n",
    "print (timeit(\"best_find(string, text)\", \"from __main__ import best_find; string='lookforme'; text='look'\"))\n",
    "\n",
    "\n",
    "\n",
    "__author__ = \"Yulin Cui\"\n",
    "__version__ = \"1.0\"\n",
    "\n",
    "import re\n",
    "import sys\n",
    "import json\n",
    "from tqdm import tqdm\n",
    "\n",
    "\n",
    "def count_line(fname):\n",
    "    with open(fname) as f:\n",
    "        for i, l in enumerate(f):\n",
    "            pass\n",
    "    #print (\"method4 line number is: \" + str(i+1))\n",
    "    return i + 1\n",
    "\n",
    "#if sys.argv[0] in dir():\n",
    "#    try:\n",
    "#        with open('C:/Users/eyulcui/Dropbox/LearnPython/raw_log/typical_trace.txt') as file:\n",
    "#            input_file = file\n",
    "#            pass\n",
    "#    except IOError as e:\n",
    "#        print (\"Unable to open file, file not exist\") #Does not exist OR no read permissions\n",
    "#else:\n",
    "#    print(\"\\nUsage:\\nscan_baseband_traces_hs_ue.pl <optional flag> <baseband_trace.log>\\n\", end=\"\") #by default, print will change line, give change end symbol to none\n",
    "#    print(\"\\nScript scans content of these traces for FOE:\\n\", end=\"\")\n",
    "#    print(\"mtd peek -ta UpUlL1PeMasterFt -sig LPP_UP_ULL1PE_EI_DATA_IND\\n\", end=\"\")\n",
    "#    print(\"lhsh gcpu00512 te e trace5 UpUlL1PeSlaveBl_Spucch\\n\", end=\"\")\n",
    "#    print(\"\\n -b     bbueref    Search for a specific bbueref\", end=\"\")\n",
    "#    print(\"\\n\", end=\"\")\n",
    "#    sys.exit(0)\n",
    "\n",
    "\n",
    "stateMachine = [0,0,0]\n",
    "#[0] is search indication, others to be defined\n",
    "currentTiming = 0\n",
    "lastBFN = 0\n",
    "wrappedBfnSub = 0\n",
    "currentBFN = 0\n",
    "currentSF = 0\n",
    "fp = open('msg2.json', 'w')\n",
    "\n",
    "logname = \"C:/STUDY/Dropbox/Python_CATM/capture_lienb2466.dec\"\n",
    "start_line_number = 0\n",
    "total_line = count_line(logname)\n",
    "#keyMsg = \"UPC_DLMACCE_FI_SCHEDULE_RA_MSG2_REQ\"\n",
    "\n",
    "tmp_count = 0\n",
    "\n",
    "print (\"Total line number for this log file is: \" + str(total_line) + \"\\n\", end=\"\")\n",
    "print (\"bfn+sf;cellId;nrOfPreambles;bbueref;preambleId;timingOffset;preamblePower;freqOffEstPrach;\\n\", end=\"\")\n",
    "\n",
    "with open(logname) as input_file:\n",
    "    progress_bar_file = tqdm(input_file,total=total_line)\n",
    "    start_time = time.time()\n",
    "#with open('C:/Users/eyulcui/Dropbox/LearnPython/raw_log/typical_trace.txt') as input_file:\n",
    "#with open('C:\\STUDY/Dropbox/LearnPython/raw_log/typical_trace.txt') as input_file:\n",
    "    for eachLine in progress_bar_file:\n",
    "\n",
    "        start_line_number += 1\n",
    "\n",
    "        if \"LPP_UP_ULCELLPE_CI_SCHEDULE_RA_RESPONSE_IND\" in eachLine:\n",
    "\n",
    "            searchObj_Msg2 = re.compile(r'.*bfn:(\\d*).*sf:(\\d*).*LPP_UP_ULCELLPE_CI_SCHEDULE_RA_RESPONSE_IND', re.M | re.I)\n",
    "\n",
    "            if searchObj_Msg2.search(eachLine):\n",
    "                tmp_count += 1\n",
    "    running_time = time.time() - start_time\n",
    "    print(\"Total match number is \" + str(tmp_count))\n",
    "    print(\"Total time used is \" + str(running_time))"
   ]
  },
  {
   "cell_type": "code",
   "execution_count": null,
   "metadata": {},
   "outputs": [
    {
     "name": "stdout",
     "output_type": "stream",
     "text": [
      "0.40867225229982296\n",
      "1.3500832639644784\n",
      "0.21063543012888886\n",
      "Total line number for this log file is: 8023336\n",
      "bfn+sf;cellId;nrOfPreambles;bbueref;preambleId;timingOffset;preamblePower;freqOffEstPrach;\n"
     ]
    },
    {
     "name": "stderr",
     "output_type": "stream",
     "text": [
      "  5%|███▎                                                                   | 379031/8023336 [01:00<18:05, 7044.02it/s]"
     ]
    }
   ],
   "source": [
    "from timeit import timeit\n",
    "import re\n",
    "\n",
    "def find(string, text):\n",
    "    if string.find(text) > -1:\n",
    "        pass\n",
    "\n",
    "def re_find(string, text):\n",
    "    if re.match(text, string):\n",
    "        pass\n",
    "\n",
    "def best_find(string, text):\n",
    "    if text in string:\n",
    "       pass\n",
    "\n",
    "print (timeit(\"find(string, text)\", \"from __main__ import find; string='lookforme'; text='look'\"))\n",
    "print (timeit(\"re_find(string, text)\", \"from __main__ import re_find; string='lookforme'; text='look'\"))\n",
    "print (timeit(\"best_find(string, text)\", \"from __main__ import best_find; string='lookforme'; text='look'\"))\n",
    "\n",
    "\n",
    "\n",
    "__author__ = \"Yulin Cui\"\n",
    "__version__ = \"1.0\"\n",
    "\n",
    "import re\n",
    "import sys\n",
    "import json\n",
    "from tqdm import tqdm\n",
    "\n",
    "\n",
    "def count_line(fname):\n",
    "    with open(fname) as f:\n",
    "        for i, l in enumerate(f):\n",
    "            pass\n",
    "    #print (\"method4 line number is: \" + str(i+1))\n",
    "    return i + 1\n",
    "\n",
    "#if sys.argv[0] in dir():\n",
    "#    try:\n",
    "#        with open('C:/Users/eyulcui/Dropbox/LearnPython/raw_log/typical_trace.txt') as file:\n",
    "#            input_file = file\n",
    "#            pass\n",
    "#    except IOError as e:\n",
    "#        print (\"Unable to open file, file not exist\") #Does not exist OR no read permissions\n",
    "#else:\n",
    "#    print(\"\\nUsage:\\nscan_baseband_traces_hs_ue.pl <optional flag> <baseband_trace.log>\\n\", end=\"\") #by default, print will change line, give change end symbol to none\n",
    "#    print(\"\\nScript scans content of these traces for FOE:\\n\", end=\"\")\n",
    "#    print(\"mtd peek -ta UpUlL1PeMasterFt -sig LPP_UP_ULL1PE_EI_DATA_IND\\n\", end=\"\")\n",
    "#    print(\"lhsh gcpu00512 te e trace5 UpUlL1PeSlaveBl_Spucch\\n\", end=\"\")\n",
    "#    print(\"\\n -b     bbueref    Search for a specific bbueref\", end=\"\")\n",
    "#    print(\"\\n\", end=\"\")\n",
    "#    sys.exit(0)\n",
    "\n",
    "\n",
    "stateMachine = [0,0,0]\n",
    "#[0] is search indication, others to be defined\n",
    "currentTiming = 0\n",
    "lastBFN = 0\n",
    "wrappedBfnSub = 0\n",
    "currentBFN = 0\n",
    "currentSF = 0\n",
    "fp = open('msg2.json', 'w')\n",
    "\n",
    "logname = \"C:/STUDY/Dropbox/Python_CATM/capture_lienb2466.dec\"\n",
    "start_line_number = 0\n",
    "total_line = count_line(logname)\n",
    "#keyMsg = \"UPC_DLMACCE_FI_SCHEDULE_RA_MSG2_REQ\"\n",
    "\n",
    "tmp_count = 0\n",
    "\n",
    "print (\"Total line number for this log file is: \" + str(total_line) + \"\\n\", end=\"\")\n",
    "print (\"bfn+sf;cellId;nrOfPreambles;bbueref;preambleId;timingOffset;preamblePower;freqOffEstPrach;\\n\", end=\"\")\n",
    "\n",
    "with open(logname) as input_file:\n",
    "    progress_bar_file = tqdm(input_file,total=total_line)\n",
    "    start_time = time.time()\n",
    "#with open('C:/Users/eyulcui/Dropbox/LearnPython/raw_log/typical_trace.txt') as input_file:\n",
    "#with open('C:\\STUDY/Dropbox/LearnPython/raw_log/typical_trace.txt') as input_file:\n",
    "    for eachLine in progress_bar_file:\n",
    "\n",
    "        start_line_number += 1\n",
    "\n",
    "        #if \"LPP_UP_ULCELLPE_CI_SCHEDULE_RA_RESPONSE_IND\" in eachLine:\n",
    "\n",
    "        searchObj_Msg2 = re.compile(r'.*bfn:(\\d*).*sf:(\\d*).*LPP_UP_ULCELLPE_CI_SCHEDULE_RA_RESPONSE_IND', re.M | re.I)\n",
    "\n",
    "        if searchObj_Msg2.search(eachLine):\n",
    "            tmp_count += 1\n",
    "    running_time = time.time() - start_time\n",
    "    print(\"Total match number is \" + str(tmp_count))\n",
    "    print(\"Total time used is \" + str(running_time))"
   ]
  },
  {
   "cell_type": "code",
   "execution_count": null,
   "metadata": {
    "collapsed": true
   },
   "outputs": [],
   "source": []
  }
 ],
 "metadata": {
  "kernelspec": {
   "display_name": "Python [conda root]",
   "language": "python",
   "name": "conda-root-py"
  },
  "language_info": {
   "codemirror_mode": {
    "name": "ipython",
    "version": 3
   },
   "file_extension": ".py",
   "mimetype": "text/x-python",
   "name": "python",
   "nbconvert_exporter": "python",
   "pygments_lexer": "ipython3",
   "version": "3.5.3"
  }
 },
 "nbformat": 4,
 "nbformat_minor": 2
}
